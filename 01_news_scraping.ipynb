{
 "cells": [
  {
   "cell_type": "code",
   "execution_count": null,
   "id": "3366afd8",
   "metadata": {},
   "outputs": [],
   "source": [
    "#2025.04.08 웹스크래핑 연습.\n"
   ]
  }
 ],
 "metadata": {
  "language_info": {
   "name": "python"
  }
 },
 "nbformat": 4,
 "nbformat_minor": 5
}
