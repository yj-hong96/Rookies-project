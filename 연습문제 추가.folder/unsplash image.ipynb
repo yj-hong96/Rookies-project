{
 "cells": [
  {
   "cell_type": "code",
   "execution_count": 7,
   "id": "98c25298",
   "metadata": {},
   "outputs": [
    {
     "name": "stdout",
     "output_type": "stream",
     "text": [
      "✅ 저장 완료: cat_1.jpg\n",
      "✅ 저장 완료: cat_2.jpg\n"
     ]
    }
   ],
   "source": [
    "import os\n",
    "import time\n",
    "import requests\n",
    "from selenium import webdriver\n",
    "from selenium.webdriver.chrome.service import Service\n",
    "from webdriver_manager.chrome import ChromeDriverManager\n",
    "from selenium.webdriver.common.by import By\n",
    "\n",
    "# 1. 저장 폴더 만들기\n",
    "save_dir = 'unsplash_img'\n",
    "os.makedirs(save_dir, exist_ok=True)\n",
    "\n",
    "# 2. 크롬 드라이버 설정\n",
    "options = webdriver.ChromeOptions()\n",
    "options.add_argument('--headless')  # 브라우저 창 안 보이게\n",
    "options.add_argument('--no-sandbox')\n",
    "options.add_argument('--disable-dev-shm-usage')\n",
    "\n",
    "driver = webdriver.Chrome(service=Service(ChromeDriverManager().install()), options=options)\n",
    "\n",
    "# 3. Unsplash 검색 페이지 열기\n",
    "url = 'https://unsplash.com/s/photos/cat'\n",
    "driver.get(url)\n",
    "time.sleep(3)  # 페이지 로딩 대기\n",
    "\n",
    "# 🔄 이미지 더 많이 보기 위해 스크롤 내리기\n",
    "for _ in range(3):\n",
    "    driver.execute_script(\"window.scrollTo(0, document.body.scrollHeight);\")\n",
    "    time.sleep(2)\n",
    "\n",
    "# 4. 이미지 URL 수집 (alt 속성 필터링)\n",
    "img_elements = driver.find_elements(By.CSS_SELECTOR, 'figure img[srcset]')\n",
    "\n",
    "img_urls = []\n",
    "for img in img_elements:\n",
    "    alt = img.get_attribute('alt')\n",
    "    src = img.get_attribute('src')\n",
    "    if alt and 'cat' in alt.lower():\n",
    "        img_urls.append(src)\n",
    "\n",
    "# 5. 중복 제거 + 상위 5장만 선택\n",
    "img_urls = list(set(img_urls))[:5]\n",
    "\n",
    "# 6. 이미지 다운로드\n",
    "for idx, img_url in enumerate(img_urls):\n",
    "    try:\n",
    "        response = requests.get(img_url)\n",
    "        with open(f'{save_dir}/cat_{idx+1}.jpg', 'wb') as f:\n",
    "            f.write(response.content)\n",
    "        print(f'✅ 저장 완료: cat_{idx+1}.jpg')\n",
    "    except Exception as e:\n",
    "        print(f'❌ 오류: {e}')\n",
    "\n",
    "driver.quit()"
   ]
  },
  {
   "cell_type": "code",
   "execution_count": 3,
   "id": "61a5f78a",
   "metadata": {},
   "outputs": [
    {
     "name": "stdout",
     "output_type": "stream",
     "text": [
      "c:\\Rookies_project\\연습문제 추가.folder\n"
     ]
    }
   ],
   "source": [
    "import os\n",
    "print(os.getcwd())  # 현재 작업 경로 보기"
   ]
  },
  {
   "cell_type": "code",
   "execution_count": 5,
   "id": "f6de0042",
   "metadata": {},
   "outputs": [
    {
     "name": "stdout",
     "output_type": "stream",
     "text": [
      "Collecting webdriver-manager\n",
      "  Downloading webdriver_manager-4.0.2-py2.py3-none-any.whl.metadata (12 kB)\n",
      "Requirement already satisfied: requests in c:\\users\\user\\anaconda3\\lib\\site-packages (from webdriver-manager) (2.32.3)\n",
      "Requirement already satisfied: python-dotenv in c:\\users\\user\\anaconda3\\lib\\site-packages (from webdriver-manager) (0.21.0)\n",
      "Requirement already satisfied: packaging in c:\\users\\user\\anaconda3\\lib\\site-packages (from webdriver-manager) (24.1)\n",
      "Requirement already satisfied: charset-normalizer<4,>=2 in c:\\users\\user\\anaconda3\\lib\\site-packages (from requests->webdriver-manager) (3.3.2)\n",
      "Requirement already satisfied: idna<4,>=2.5 in c:\\users\\user\\anaconda3\\lib\\site-packages (from requests->webdriver-manager) (2.10)\n",
      "Requirement already satisfied: urllib3<3,>=1.21.1 in c:\\users\\user\\anaconda3\\lib\\site-packages (from requests->webdriver-manager) (2.2.3)\n",
      "Requirement already satisfied: certifi>=2017.4.17 in c:\\users\\user\\anaconda3\\lib\\site-packages (from requests->webdriver-manager) (2024.8.30)\n",
      "Downloading webdriver_manager-4.0.2-py2.py3-none-any.whl (27 kB)\n",
      "Installing collected packages: webdriver-manager\n",
      "Successfully installed webdriver-manager-4.0.2\n",
      "Note: you may need to restart the kernel to use updated packages.\n"
     ]
    }
   ],
   "source": [
    "%pip install webdriver-manager"
   ]
  }
 ],
 "metadata": {
  "kernelspec": {
   "display_name": "base",
   "language": "python",
   "name": "python3"
  },
  "language_info": {
   "codemirror_mode": {
    "name": "ipython",
    "version": 3
   },
   "file_extension": ".py",
   "mimetype": "text/x-python",
   "name": "python",
   "nbconvert_exporter": "python",
   "pygments_lexer": "ipython3",
   "version": "3.12.7"
  }
 },
 "nbformat": 4,
 "nbformat_minor": 5
}
