{
 "cells": [
  {
   "cell_type": "code",
   "execution_count": null,
   "id": "887575aa",
   "metadata": {},
   "outputs": [
    {
     "ename": "NameError",
     "evalue": "name 'SUFFIX' is not defined",
     "output_type": "error",
     "traceback": [
      "\u001b[1;31m---------------------------------------------------------------------------\u001b[0m",
      "\u001b[1;31mNameError\u001b[0m                                 Traceback (most recent call last)",
      "Cell \u001b[1;32mIn[4], line 7\u001b[0m\n\u001b[0;32m      1\u001b[0m \u001b[38;5;66;03m# 기존 구조: nested 딕셔너리 만들기\u001b[39;00m\n\u001b[0;32m      2\u001b[0m req_parameter_nested \u001b[38;5;241m=\u001b[39m {\n\u001b[0;32m      3\u001b[0m     region: {\n\u001b[0;32m      4\u001b[0m         district: PREFIX[region] \u001b[38;5;241m+\u001b[39m suffix[\u001b[38;5;241m-\u001b[39m\u001b[38;5;241m3\u001b[39m:]\n\u001b[0;32m      5\u001b[0m         \u001b[38;5;28;01mfor\u001b[39;00m district, suffix \u001b[38;5;129;01min\u001b[39;00m districts\u001b[38;5;241m.\u001b[39mitems()\n\u001b[0;32m      6\u001b[0m     }\n\u001b[1;32m----> 7\u001b[0m     \u001b[38;5;28;01mfor\u001b[39;00m region, districts \u001b[38;5;129;01min\u001b[39;00m SUFFIX\u001b[38;5;241m.\u001b[39mitems()\n\u001b[0;32m      8\u001b[0m }\n\u001b[0;32m     10\u001b[0m \u001b[38;5;66;03m# 평탄화(flatten) + 시단위 전체 지역 코드 추가\u001b[39;00m\n\u001b[0;32m     11\u001b[0m req_parameter \u001b[38;5;241m=\u001b[39m {}\n",
      "\u001b[1;31mNameError\u001b[0m: name 'SUFFIX' is not defined"
     ]
    }
   ],
   "source": [
    "\n",
    "# 기존 구조: nested 딕셔너리 만들기\n",
    "req_parameter_nested = {\n",
    "    region: {\n",
    "        district: PREFIX[region] + suffix[-3:]\n",
    "        for district, suffix in districts.items()\n",
    "    }\n",
    "    for region, districts in SUFFIX.items()\n",
    "}\n",
    "\n",
    "# 평탄화(flatten) + 시단위 전체 지역 코드 추가\n",
    "req_parameter = {}\n",
    "\n",
    "for region, districts in req_parameter_nested.items():\n",
    "    # 시 전체 ('서울') 코드: '강남구'처럼 직접 접근할 수 있도록\n",
    "    if '전체' in districts:\n",
    "        req_parameter[region] = districts['전체']  # ex) '서울': '101000'\n",
    "    # 각 구/군도 추가\n",
    "    for district, code in districts.items():\n",
    "        req_parameter[district] = code\n",
    "\n",
    "req_parameter2={\n",
    "    '지역별':'domestic',\n",
    "    '직업별':'job-category',\n",
    "    '역세권별':'subway',\n",
    "    'HOT100':'hot100',\n",
    "    '헤드헌팅':'headhunting'\n",
    "}\n"
   ]
  },
  {
   "cell_type": "code",
   "execution_count": null,
   "id": "fc78aee5",
   "metadata": {},
   "outputs": [
    {
     "name": "stdout",
     "output_type": "stream",
     "text": [
      "https://www.saramin.co.kr/zf_user/jobs/list/domestic?loc_cd=101000&panel_type=&search_optional_item=n&search_done=y&panel_count=y&preview=y\n",
      "에러 코드 1= 200\n"
     ]
    }
   ],
   "source": [
    "\n",
    "url = \"https://www.saramin.co.kr/zf_user/jobs/list/{지역별}?loc_cd={서울}&panel_type=&search_optional_item=n&search_done=y&panel_count=y&preview=y\".format(**req_parameter2, **req_parameter)\n",
    "print(url)\n",
    "req_header = {\n",
    "    'user-agent':'Mozilla/5.0 (Windows NT 10.0; Win64; x64) AppleWebKit/537.36 (KHTML, like Gecko) Chrome/135.0.0.0 Safari/537.36'\n",
    "}\n",
    "\n",
    "res = requests.get(url, headers = req_header)\n",
    "res.encoding = 'utf-8'\n",
    "\n",
    "job_link_list = []\n",
    "logo_list = []\n",
    "title_list =[]\n",
    "corp_list = []\n",
    "local_list = []\n",
    "exp_list = []\n",
    "grad_list = []\n",
    "date_list = []\n",
    "badge_list = []\n",
    "if res.ok:\n",
    "    html = res.text\n",
    "    soup = BeautifulSoup(html, 'html.parser') \n",
    "    # CSS 선택자\n",
    "    a_tag_list = soup.select(\"div.wrap_list_banner ul.list_product li.item a[href*='/zf_user/jobs/relay/view?view_type=list&rec']\")\n",
    "    # <a> 태그 리스트 순회하기    \n",
    "    for a_tag in a_tag_list:\n",
    "        # 링크\n",
    "        job_link_dict = {}\n",
    "        job_link_dict['링크'] = \"https://www.saramin.co.kr\" + a_tag['href']\n",
    "        job_link_list.append(job_link_dict)\n",
    "\n",
    "        # 로고\n",
    "        logo_dict = {}\n",
    "        if len(a_tag.select(\"span.logo img[src*='banner_logo/company/logo_banner/']\")) == 0:\n",
    "            logo_dict['로고'] = 'Null'\n",
    "        else:\n",
    "            img_url = a_tag.select(\"span.logo img[src*='banner_logo/company/logo_banner/']\")\n",
    "            logo_dict['로고'] = img_url[0]['src']\n",
    "        logo_list.append(logo_dict)\n",
    "\n",
    "        # 제목\n",
    "        title_dict = {}\n",
    "        if len(a_tag.select(\"strong.tit\")) == 0:\n",
    "            title_dict['제목'] = 'Null'\n",
    "        else:\n",
    "            title = a_tag.select(\"strong.tit\")[0].text\n",
    "            title_dict['제목'] = title\n",
    "        title_list.append(title_dict)\n",
    "\n",
    "        # 회사\n",
    "        corp_dict = {}\n",
    "        if len(a_tag.select(\"span.corp\")) == 0:\n",
    "            corp_dict['회사'] = 'Null'\n",
    "        else:\n",
    "            corp = a_tag.select(\"span.corp\")[0].text\n",
    "            corp_dict['회사'] = corp\n",
    "        corp_list.append(corp_dict)\n",
    "        \n",
    "        # 지역, 경력, 학력\n",
    "        temp = a_tag.select(\"ul.desc li\")\n",
    "        local_dict = {}\n",
    "        exp_dict = {}\n",
    "        grad_dict = {}\n",
    "        if len(temp) >= 3:\n",
    "            local_dict['지역'] = temp[0].get_text(strip=True)\n",
    "            exp_dict['요구경력'] = temp[1].get_text(strip=True)\n",
    "            grad_dict['최소학력'] = temp[2].get_text(strip=True)\n",
    "        else:\n",
    "            local_dict['지역'] = 'NULL'\n",
    "            exp_dict['요구경력'] = 'NULL'\n",
    "            grad_dict['최소학력'] = 'NULL'\n",
    "        local_list.append(local_dict)\n",
    "        exp_list.append(exp_dict)\n",
    "        grad_list.append(grad_dict)\n",
    "\n",
    "        for region in local_list:\n",
    "            if region['지역'].endswith(' 외'):\n",
    "                region['지역'] = region['지역'][:-2]\n",
    "\n",
    "        # 기간\n",
    "        date_dict = {}\n",
    "        if len(a_tag.select(\"span.date\")) == 0:\n",
    "            date_dict['기간'] = 'Null'\n",
    "        else:\n",
    "            date = a_tag.select(\"span.date\")[0].text\n",
    "            date_dict['기간'] = date\n",
    "        date_list.append(date_dict)\n",
    "\n",
    "        clean_date = []\n",
    "        for item in date_list:\n",
    "            clean_item = {key: re.sub(r'\\s+', ' ', value).strip() for key, value in item.items()}\n",
    "            clean_date.append(clean_item)\n",
    "\n",
    "        # 배지\n",
    "        badge_dict = {}\n",
    "        if len(a_tag.select(\"span.badge span\")) == 0:\n",
    "            badge_dict['배지'] = 'Null'\n",
    "        else:\n",
    "            badge = a_tag.select(\"span.badge span\")[0].text\n",
    "            badge_dict['배지'] = badge\n",
    "        badge_list.append(badge_dict)\n",
    "\n",
    "    else:\n",
    "        # 응답(response)이 Error 이면 status code 출력    \n",
    "        print(f'에러 코드 1= {res.status_code}')\n"
   ]
  },
  {
   "cell_type": "code",
   "execution_count": null,
   "id": "937a5ae8",
   "metadata": {},
   "outputs": [],
   "source": [
    "\n",
    "combined_list = []\n",
    "for link, logo, title, corp, local, exp, grad, date, badge in zip(job_link_list, logo_list, title_list, corp_list, local_list, exp_list, grad_list, clean_date, badge_list):\n",
    "    merged_dict = {}\n",
    "    merged_dict.update(link)\n",
    "    merged_dict.update(logo)\n",
    "    merged_dict.update(title)\n",
    "    merged_dict.update(corp)\n",
    "    merged_dict.update(local)\n",
    "    merged_dict.update(exp)\n",
    "    merged_dict.update(grad)\n",
    "    merged_dict.update(date)\n",
    "    merged_dict.update(badge)\n",
    "    combined_list.append(merged_dict)\n"
   ]
  },
  {
   "cell_type": "code",
   "execution_count": null,
   "id": "2dec20f1",
   "metadata": {},
   "outputs": [
    {
     "name": "stdout",
     "output_type": "stream",
     "text": [
      "[{'링크': 'https://www.saramin.co.kr/zf_user/jobs/relay/view?view_type=list&rec_idx=50473499'}, {'링크': 'https://www.saramin.co.kr/zf_user/jobs/relay/view?view_type=list&rec_idx=50373915'}, {'링크': 'https://www.saramin.co.kr/zf_user/jobs/relay/view?view_type=list&rec_idx=50242003'}, {'링크': 'https://www.saramin.co.kr/zf_user/jobs/relay/view?view_type=list&rec_idx=50507916'}, {'링크': 'https://www.saramin.co.kr/zf_user/jobs/relay/view?view_type=list&rec_idx=50459170'}, {'링크': 'https://www.saramin.co.kr/zf_user/jobs/relay/view?view_type=list&rec_idx=50196065'}, {'링크': 'https://www.saramin.co.kr/zf_user/jobs/relay/view?view_type=list&rec_idx=50442896'}, {'링크': 'https://www.saramin.co.kr/zf_user/jobs/relay/view?view_type=list&rec_idx=50327882'}, {'링크': 'https://www.saramin.co.kr/zf_user/jobs/relay/view?view_type=list&rec_idx=50407549'}, {'링크': 'https://www.saramin.co.kr/zf_user/jobs/relay/view?view_type=list&rec_idx=50432464'}, {'링크': 'https://www.saramin.co.kr/zf_user/jobs/relay/view?view_type=list&rec_idx=50472507'}, {'링크': 'https://www.saramin.co.kr/zf_user/jobs/relay/view?view_type=list&rec_idx=50072737'}, {'링크': 'https://www.saramin.co.kr/zf_user/jobs/relay/view?view_type=list&rec_idx=50460439'}, {'링크': 'https://www.saramin.co.kr/zf_user/jobs/relay/view?view_type=list&rec_idx=50432772'}, {'링크': 'https://www.saramin.co.kr/zf_user/jobs/relay/view?view_type=list&rec_idx=50469341'}, {'링크': 'https://www.saramin.co.kr/zf_user/jobs/relay/view?view_type=list&rec_idx=50462287'}, {'링크': 'https://www.saramin.co.kr/zf_user/jobs/relay/view?view_type=list&rec_idx=50481387'}, {'링크': 'https://www.saramin.co.kr/zf_user/jobs/relay/view?view_type=list&rec_idx=50462432'}, {'링크': 'https://www.saramin.co.kr/zf_user/jobs/relay/view?view_type=list&rec_idx=50441323'}, {'링크': 'https://www.saramin.co.kr/zf_user/jobs/relay/view?view_type=list&rec_idx=50412667'}, {'링크': 'https://www.saramin.co.kr/zf_user/jobs/relay/view?view_type=list&rec_idx=50480335'}, {'링크': 'https://www.saramin.co.kr/zf_user/jobs/relay/view?view_type=list&rec_idx=50474681'}, {'링크': 'https://www.saramin.co.kr/zf_user/jobs/relay/view?view_type=list&rec_idx=50484730'}, {'링크': 'https://www.saramin.co.kr/zf_user/jobs/relay/view?view_type=list&rec_idx=50146069'}, {'링크': 'https://www.saramin.co.kr/zf_user/jobs/relay/view?view_type=list&rec_idx=50481862'}, {'링크': 'https://www.saramin.co.kr/zf_user/jobs/relay/view?view_type=list&rec_idx=50370983'}, {'링크': 'https://www.saramin.co.kr/zf_user/jobs/relay/view?view_type=list&rec_idx=50498576'}, {'링크': 'https://www.saramin.co.kr/zf_user/jobs/relay/view?view_type=list&rec_idx=50439219'}, {'링크': 'https://www.saramin.co.kr/zf_user/jobs/relay/view?view_type=list&rec_idx=50354419'}, {'링크': 'https://www.saramin.co.kr/zf_user/jobs/relay/view?view_type=list&rec_idx=50463278'}, {'링크': 'https://www.saramin.co.kr/zf_user/jobs/relay/view?view_type=list&rec_idx=50479948'}, {'링크': 'https://www.saramin.co.kr/zf_user/jobs/relay/view?view_type=list&rec_idx=50499039'}, {'링크': 'https://www.saramin.co.kr/zf_user/jobs/relay/view?view_type=list&rec_idx=50471535'}, {'링크': 'https://www.saramin.co.kr/zf_user/jobs/relay/view?view_type=list&rec_idx=50327398'}, {'링크': 'https://www.saramin.co.kr/zf_user/jobs/relay/view?view_type=list&rec_idx=50372944'}, {'링크': 'https://www.saramin.co.kr/zf_user/jobs/relay/view?view_type=list&rec_idx=50406129&'}, {'링크': 'https://www.saramin.co.kr/zf_user/jobs/relay/view?view_type=list&rec_idx=50495272&'}, {'링크': 'https://www.saramin.co.kr/zf_user/jobs/relay/view?view_type=list&rec_idx=50478900&'}, {'링크': 'https://www.saramin.co.kr/zf_user/jobs/relay/view?view_type=list&rec_idx=50460312&'}, {'링크': 'https://www.saramin.co.kr/zf_user/jobs/relay/view?view_type=list&rec_idx=50461302&'}, {'링크': 'https://www.saramin.co.kr/zf_user/jobs/relay/view?view_type=list&rec_idx=50412540&'}, {'링크': 'https://www.saramin.co.kr/zf_user/jobs/relay/view?view_type=list&rec_idx=50429242&'}, {'링크': 'https://www.saramin.co.kr/zf_user/jobs/relay/view?view_type=list&rec_idx=50462044&'}, {'링크': 'https://www.saramin.co.kr/zf_user/jobs/relay/view?view_type=list&rec_idx=50437161&'}, {'링크': 'https://www.saramin.co.kr/zf_user/jobs/relay/view?view_type=list&rec_idx=50381307&'}, {'링크': 'https://www.saramin.co.kr/zf_user/jobs/relay/view?view_type=list&rec_idx=50327381&'}, {'링크': 'https://www.saramin.co.kr/zf_user/jobs/relay/view?view_type=list&rec_idx=50395814&'}, {'링크': 'https://www.saramin.co.kr/zf_user/jobs/relay/view?view_type=list&rec_idx=50506769&'}, {'링크': 'https://www.saramin.co.kr/zf_user/jobs/relay/view?view_type=list&rec_idx=50438158&'}, {'링크': 'https://www.saramin.co.kr/zf_user/jobs/relay/view?view_type=list&rec_idx=50433662&'}, {'링크': 'https://www.saramin.co.kr/zf_user/jobs/relay/view?view_type=list&rec_idx=50443899&'}]\n"
     ]
    },
    {
     "data": {
      "text/html": [
       "<div>\n",
       "<style scoped>\n",
       "    .dataframe tbody tr th:only-of-type {\n",
       "        vertical-align: middle;\n",
       "    }\n",
       "\n",
       "    .dataframe tbody tr th {\n",
       "        vertical-align: top;\n",
       "    }\n",
       "\n",
       "    .dataframe thead th {\n",
       "        text-align: right;\n",
       "    }\n",
       "</style>\n",
       "<table border=\"1\" class=\"dataframe\">\n",
       "  <thead>\n",
       "    <tr style=\"text-align: right;\">\n",
       "      <th></th>\n",
       "      <th>링크</th>\n",
       "      <th>로고</th>\n",
       "      <th>제목</th>\n",
       "      <th>회사</th>\n",
       "      <th>지역</th>\n",
       "      <th>요구경력</th>\n",
       "      <th>최소학력</th>\n",
       "      <th>기간</th>\n",
       "      <th>배지</th>\n",
       "    </tr>\n",
       "  </thead>\n",
       "  <tbody>\n",
       "    <tr>\n",
       "      <th>0</th>\n",
       "      <td>https://www.saramin.co.kr/zf_user/jobs/relay/v...</td>\n",
       "      <td>https://www.saraminbanner.co.kr/banner_logo/co...</td>\n",
       "      <td>정보지원센터 직원 채용</td>\n",
       "      <td>서울사이버대학교</td>\n",
       "      <td>NULL</td>\n",
       "      <td>NULL</td>\n",
       "      <td>NULL</td>\n",
       "      <td>오늘마감</td>\n",
       "      <td>인기있는</td>\n",
       "    </tr>\n",
       "    <tr>\n",
       "      <th>1</th>\n",
       "      <td>https://www.saramin.co.kr/zf_user/jobs/relay/v...</td>\n",
       "      <td>https://www.saraminbanner.co.kr/banner_logo/co...</td>\n",
       "      <td>신입사원 모집</td>\n",
       "      <td>현대종합금속㈜</td>\n",
       "      <td>NULL</td>\n",
       "      <td>NULL</td>\n",
       "      <td>NULL</td>\n",
       "      <td>D-4</td>\n",
       "      <td>영업·판매·무역 지원 TOP100</td>\n",
       "    </tr>\n",
       "    <tr>\n",
       "      <th>2</th>\n",
       "      <td>https://www.saramin.co.kr/zf_user/jobs/relay/v...</td>\n",
       "      <td>https://www.saraminbanner.co.kr/banner_logo/co...</td>\n",
       "      <td>SNS광고 영상 편집자 채용</td>\n",
       "      <td>주식회사에이치케이엔</td>\n",
       "      <td>NULL</td>\n",
       "      <td>NULL</td>\n",
       "      <td>NULL</td>\n",
       "      <td>~05.13(화)</td>\n",
       "      <td>인기있는</td>\n",
       "    </tr>\n",
       "    <tr>\n",
       "      <th>3</th>\n",
       "      <td>https://www.saramin.co.kr/zf_user/jobs/relay/v...</td>\n",
       "      <td>https://www.saraminbanner.co.kr/banner_logo/co...</td>\n",
       "      <td>화장품 관련 각 부문 직원</td>\n",
       "      <td>㈜셀아이콘랩</td>\n",
       "      <td>NULL</td>\n",
       "      <td>NULL</td>\n",
       "      <td>NULL</td>\n",
       "      <td>~05.14(수)</td>\n",
       "      <td>인기있는</td>\n",
       "    </tr>\n",
       "    <tr>\n",
       "      <th>4</th>\n",
       "      <td>https://www.saramin.co.kr/zf_user/jobs/relay/v...</td>\n",
       "      <td>https://www.saraminbanner.co.kr/banner_logo/co...</td>\n",
       "      <td>회계부서/수행비서 채용</td>\n",
       "      <td>㈜네잎클로버벤쳐스</td>\n",
       "      <td>서울 강남구</td>\n",
       "      <td>경력</td>\n",
       "      <td>학력무관</td>\n",
       "      <td>~04.30(수)</td>\n",
       "      <td>인기있는</td>\n",
       "    </tr>\n",
       "  </tbody>\n",
       "</table>\n",
       "</div>"
      ],
      "text/plain": [
       "                                                  링크  \\\n",
       "0  https://www.saramin.co.kr/zf_user/jobs/relay/v...   \n",
       "1  https://www.saramin.co.kr/zf_user/jobs/relay/v...   \n",
       "2  https://www.saramin.co.kr/zf_user/jobs/relay/v...   \n",
       "3  https://www.saramin.co.kr/zf_user/jobs/relay/v...   \n",
       "4  https://www.saramin.co.kr/zf_user/jobs/relay/v...   \n",
       "\n",
       "                                                  로고               제목  \\\n",
       "0  https://www.saraminbanner.co.kr/banner_logo/co...     정보지원센터 직원 채용   \n",
       "1  https://www.saraminbanner.co.kr/banner_logo/co...          신입사원 모집   \n",
       "2  https://www.saraminbanner.co.kr/banner_logo/co...  SNS광고 영상 편집자 채용   \n",
       "3  https://www.saraminbanner.co.kr/banner_logo/co...   화장품 관련 각 부문 직원   \n",
       "4  https://www.saraminbanner.co.kr/banner_logo/co...     회계부서/수행비서 채용   \n",
       "\n",
       "           회사      지역  요구경력  최소학력         기간                  배지  \n",
       "0    서울사이버대학교    NULL  NULL  NULL       오늘마감                인기있는  \n",
       "1     현대종합금속㈜    NULL  NULL  NULL        D-4  영업·판매·무역 지원 TOP100  \n",
       "2  주식회사에이치케이엔    NULL  NULL  NULL  ~05.13(화)                인기있는  \n",
       "3      ㈜셀아이콘랩    NULL  NULL  NULL  ~05.14(수)                인기있는  \n",
       "4   ㈜네잎클로버벤쳐스  서울 강남구    경력  학력무관  ~04.30(수)                인기있는  "
      ]
     },
     "execution_count": 134,
     "metadata": {},
     "output_type": "execute_result"
    }
   ],
   "source": [
    "\n",
    "# DataFrame으로 변환\n",
    "df = pd.DataFrame(combined_list)\n",
    "print(job_link_list)\n",
    "df.head()"
   ]
  },
  {
   "cell_type": "code",
   "execution_count": null,
   "id": "c0a44b9d",
   "metadata": {},
   "outputs": [
    {
     "name": "stdout",
     "output_type": "stream",
     "text": [
      "지역 결측치 비율: 7.84%\n",
      "요구경력 결측치 비율: 7.84%\n",
      "최소학력 결측치 비율: 7.84%\n"
     ]
    }
   ],
   "source": [
    "df.replace(\"NULL\", np.nan, inplace=True)\n",
    "for i in df.columns :\n",
    "    missingValueRate = df[i].isna().sum() / len(df) * 100\n",
    "    if missingValueRate > 0 :\n",
    "        print(\"{} 결측치 비율: {}%\".format(i,round(missingValueRate, 2)))"
   ]
  },
  {
   "cell_type": "code",
   "execution_count": null,
   "id": "179567c7",
   "metadata": {},
   "outputs": [
    {
     "data": {
      "text/plain": [
       "(51, 9)"
      ]
     },
     "execution_count": 136,
     "metadata": {},
     "output_type": "execute_result"
    }
   ],
   "source": [
    "df.shape"
   ]
  },
  {
   "cell_type": "code",
   "execution_count": null,
   "id": "452d98f8",
   "metadata": {},
   "outputs": [
    {
     "data": {
      "text/plain": [
       "(47, 9)"
      ]
     },
     "execution_count": 138,
     "metadata": {},
     "output_type": "execute_result"
    }
   ],
   "source": [
    "\n",
    "df.dropna(axis = 0, inplace=True)\n",
    "df.shape"
   ]
  },
  {
   "cell_type": "code",
   "execution_count": null,
   "id": "de3a7e33",
   "metadata": {},
   "outputs": [],
   "source": [
    "import matplotlib\n",
    "import matplotlib.pyplot as plt\n",
    "import matplotlib.font_manager as fm\n",
    "import seaborn as sns\n",
    "\n",
    "font_path = 'C:\\\\windows\\\\Fonts\\\\malgun.ttf'\n",
    "font_prop = fm.FontProperties(fname=font_path).get_name()\n",
    "\n",
    "\n",
    "matplotlib.rc('font', family=font_prop)"
   ]
  },
  {
   "cell_type": "code",
   "execution_count": null,
   "id": "b14b3ae3",
   "metadata": {},
   "outputs": [],
   "source": []
  },
  {
   "cell_type": "code",
   "execution_count": null,
   "id": "7e58eefd",
   "metadata": {},
   "outputs": [
    {
     "data": {
      "image/png": "[encoded data removed]",
      "text/plain": [
       "<Figure size 1200x600 with 1 Axes>"
      ]
     },
     "metadata": {},
     "output_type": "display_data"
    }
   ],
   "source": [
    "\n",
    "# 지역별 공고 수\n",
    "plt.figure(figsize=(12, 6))\n",
    "sns.countplot(data=df, x='지역', order=df['지역'].value_counts().index)\n",
    "plt.title('지역별 채용공고 수')\n",
    "plt.xlabel('공고 수')\n",
    "plt.ylabel('지역')\n",
    "plt.tight_layout()\n",
    "plt.show()"
   ]
  },
  {
   "cell_type": "code",
   "execution_count": null,
   "id": "6521eee1",
   "metadata": {},
   "outputs": [
    {
     "data": {
      "image/png": "[encoded data removed]",
      "text/plain": [
       "<Figure size 1000x600 with 1 Axes>"
      ]
     },
     "metadata": {},
     "output_type": "display_data"
    }
   ],
   "source": [
    "plt.figure(figsize=(10, 6))\n",
    "sns.countplot(data=df, x='요구경력', order=df['요구경력'].value_counts().index)\n",
    "plt.title('요구 경력 분포')\n",
    "plt.xlabel('요구 경력')\n",
    "plt.ylabel('공고 수')\n",
    "plt.xticks(rotation=45)\n",
    "plt.tight_layout()\n",
    "plt.show()"
   ]
  }
 ],
 "metadata": {
  "kernelspec": {
   "display_name": "base",
   "language": "python",
   "name": "python3"
  },
  "language_info": {
   "codemirror_mode": {
    "name": "ipython",
    "version": 3
   },
   "file_extension": ".py",
   "mimetype": "text/x-python",
   "name": "python",
   "nbconvert_exporter": "python",
   "pygments_lexer": "ipython3",
   "version": "3.12.7"
  }
 },
 "nbformat": 4,
 "nbformat_minor": 5
}
