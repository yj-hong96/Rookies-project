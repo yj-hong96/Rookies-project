{
 "cells": [
  {
   "cell_type": "code",
   "execution_count": null,
   "id": "968298b1",
   "metadata": {},
   "outputs": [
    {
     "name": "stdout",
     "output_type": "stream",
     "text": [
      "\n",
      "📥 '낢이사는이야기' 51화 다운로드 시작\n",
      "저장 경로: img\\낢이사는이야기\\51\n",
      "⚠️ 이미지가 없습니다. 구조가 바뀌었거나 비공개 회차일 수 있습니다.\n"
     ]
    }
   ],
   "source": [
    "import pandas as pd\n",
    "\n",
    "# 예시 데이터프레임\n",
    "data = {\n",
    "    '곡명': ['Love Dive', 'Attention', '사건의 지평선'],\n",
    "    '가수': ['IVE', 'NewJeans', '윤하'],\n",
    "    '발매일': ['2022-04-05', '2022-07-22', '2022-03-10']\n",
    "}\n",
    "song_df = pd.DataFrame(data)\n",
    "\n",
    "# 날짜 형식으로 변환\n",
    "song_df['발매일'] = pd.to_datetime(song_df['발매일'])\n",
    "\n",
    "# 최신 발매일\n",
    "print(\"최신 발매일:\", song_df['발매일'].max())\n",
    "\n",
    "# 해당 날짜의 곡 출력\n",
    "latest_song = song_df[song_df['발매일'] == song_df['발매일'].max()]\n",
    "print(\"\\n최신 곡:\")\n",
    "print(latest_song)"
   ]
  }
 ],
 "metadata": {
  "kernelspec": {
   "display_name": "base",
   "language": "python",
   "name": "python3"
  },
  "language_info": {
   "codemirror_mode": {
    "name": "ipython",
    "version": 3
   },
   "file_extension": ".py",
   "mimetype": "text/x-python",
   "name": "python",
   "nbconvert_exporter": "python",
   "pygments_lexer": "ipython3",
   "version": "3.12.7"
  }
 },
 "nbformat": 4,
 "nbformat_minor": 5
}
